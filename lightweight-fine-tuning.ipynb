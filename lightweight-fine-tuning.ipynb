{
 "cells": [
  {
   "cell_type": "markdown",
   "id": "cfe43184-f3de-49aa-b4ff-2f94fd5afc11",
   "metadata": {},
   "source": [
    "# Lightweight Fine Tuning\n",
    "\n",
    "This project will load a pre-trained model and evaluate it's performance, perform parameter-efficient fine-tuning using the pre-trained model, and perform inference using the fine-tuned model, finally comparing its performance to the original model. \n",
    "\n",
    "- **PEFT Technique**:\n",
    "    - Parameter Efficient Fine Tuning Methods\n",
    "    - This project will use LoRA: [Low-Rank Adaptation of Large Language Models](https://arxiv.org/abs/2106.09685)\n",
    "- **Model**:\n",
    "    - GPT-2: [OpenAI's open source Generative Pre-trained Transformer](https://huggingface.co/openai-community/gpt2)\n",
    "- **Evaluation Approach**:\n",
    "    - The `evaluate` method with a Hugging Face `Trainer` will be used.\n",
    "    - The key requirement for the evlauation is that \n",
    "- **Dataset**:\n",
    "    - [Wikitext2](https://huggingface.co/datasets/mindchain/wikitext2): The WikiText language modeling dataset is a collection of over 100 million tokens extracted from the set of verified Good and Featured articles on Wikipedia. The dataset is available under the Creative Commons Attribution-ShareAlike License.\n",
    "\n",
    "## Training with PEFT"
   ]
  },
  {
   "cell_type": "markdown",
   "id": "cf986e41-df0b-4cdf-8122-898eefa663bc",
   "metadata": {},
   "source": [
    "### Importing the modules"
   ]
  },
  {
   "cell_type": "code",
   "execution_count": null,
   "id": "59965b3e-dcee-46ab-bd0e-7c555990b455",
   "metadata": {},
   "outputs": [],
   "source": [
    "from transformers import AutoTokenizer, AutoModelForCausalLM\n",
    "from peft import get_peft_model, LoraConfig, TaskType, AutoPeftModelForCausalLM\n",
    "from datasets import load_dataset\n",
    "from transformers import Trainer, TrainingArguments\n",
    "from torch.utils.data import DataLoader\n",
    "from transformers import default_data_collator, Trainer"
   ]
  },
  {
   "cell_type": "markdown",
   "id": "fe7b58b0-1674-4b06-a930-c539374e8564",
   "metadata": {},
   "source": [
    "### Setup the Model and Tokenizer"
   ]
  },
  {
   "cell_type": "code",
   "execution_count": null,
   "id": "0013111b-9f9e-49f5-90f8-4763376eab64",
   "metadata": {},
   "outputs": [],
   "source": [
    "tokenizer = AutoTokenizer.from_pretrained(\"openai-community/gpt2\")\n",
    "model = AutoModelForCausalLM.from_pretrained(\"openai-community/gpt2\")"
   ]
  },
  {
   "cell_type": "markdown",
   "id": "a4d45ad0-2530-4524-b125-ddc57ab0441e",
   "metadata": {},
   "source": [
    "### Creating a PEFT Config"
   ]
  },
  {
   "cell_type": "code",
   "execution_count": null,
   "id": "c2192d6c-5ed5-457c-84c1-4e9079361b0b",
   "metadata": {},
   "outputs": [],
   "source": [
    "peft_config = LoraConfig(\n",
    "    task_type=TaskType.CAUSAL_LM,  # Causal language modeling for GPT-2\n",
    "    r=8,                           # Rank of update matrices\n",
    "    lora_alpha=32,                 # Alpha parameter for LoRA scaling\n",
    "    lora_dropout=0.1,              # Dropout probability for LoRA layers\n",
    "    # Target the attention and MLP layers in GPT-2\n",
    "    target_modules=[\"c_attn\", \"c_proj\", \"c_fc\"],\n",
    "    bias=\"none\",\n",
    "    fan_in_fan_out=True,\n",
    "    inference_mode=False,\n",
    ")\n",
    "lora_model = get_peft_model(model, peft_config)\n",
    "# Check trainable parameters\n",
    "lora_model.print_trainable_parameters()"
   ]
  },
  {
   "cell_type": "markdown",
   "id": "5f6c8c27",
   "metadata": {},
   "source": [
    "### Training with a PEFT Model"
   ]
  },
  {
   "cell_type": "code",
   "execution_count": null,
   "id": "1b114377",
   "metadata": {},
   "outputs": [],
   "source": [
    "# Define training arguments\n",
    "training_args = TrainingArguments(\n",
    "    output_dir=\"peft_model_output\",\n",
    "    num_train_epochs=3,\n",
    "    per_device_train_batch_size=4,\n",
    "    gradient_accumulation_steps=2,  # Accumulate gradients to simulate larger batch\n",
    "    warmup_steps=100,\n",
    "    learning_rate=2e-5,\n",
    "    logging_steps=10,\n",
    "    evaluation_strategy=\"steps\",\n",
    "    eval_steps=50,\n",
    "    save_strategy=\"steps\",\n",
    "    save_steps=200,\n",
    "    load_best_model_at_end=True,\n",
    ")\n",
    "\n",
    "# Load the dataset\n",
    "dataset = load_dataset(\"wikitext\", \"wikitext-2-raw-v1\")\n",
    "\n",
    "# Tokenize the dataset\n",
    "def tokenize_function(examples):\n",
    "    return tokenizer(examples[\"text\"])\n",
    "\n",
    "tokenized_dataset = dataset.map(tokenize_function, batched=True)\n",
    "\n",
    "# Initialize trainer\n",
    "trainer = Trainer(\n",
    "    model=lora_model,\n",
    "    args=training_args,\n",
    "    train_dataset=tokenized_dataset[\"train\"],\n",
    "    eval_dataset=tokenized_dataset[\"validation\"],\n",
    ")\n",
    "\n",
    "# Start training\n",
    "trainer.train()\n",
    "\n",
    "# Save the final model\n",
    "lora_model.save_pretrained(\"gpt2-lora\")"
   ]
  },
  {
   "cell_type": "markdown",
   "id": "7d2f5ad4",
   "metadata": {},
   "source": [
    "## Inference with PEFT\n",
    "\n",
    "### Loading a Saved PEFT Model"
   ]
  },
  {
   "cell_type": "code",
   "execution_count": null,
   "id": "b91565af",
   "metadata": {},
   "outputs": [],
   "source": [
    "lora_model = AutoPeftModelForCausalLM.from_pretrained(\"gpt-lora\")"
   ]
  },
  {
   "cell_type": "markdown",
   "id": "d7f5b0ec",
   "metadata": {},
   "source": [
    "### Generating Text from a PEFT Model"
   ]
  },
  {
   "cell_type": "markdown",
   "id": "4fda57bd",
   "metadata": {},
   "source": [
    "tokenizer = AutoTokenizer.from_pretrained(\"gpt2\")\n",
    "inputs = tokenizer(\"Hello, my name is \", return_tensors=\"pt\")\n",
    "outputs = model.generate(input_ids=inputs[\"input_ids\"], max_new_tokens=10)\n",
    "print(tokenizer.batch_decode(outputs))\n",
    "\n",
    "lora_inputs = lora_model(\"Hello, my name is \" return_tensors=\"pt\")\n",
    "lora_outputs = model.generate(input_ids=lora_inputs[\"input_ids\"], max_new_tokens=10)\n",
    "print(tokenizer.batch_decode(lora_outputs))"
   ]
  }
 ],
 "metadata": {
  "kernelspec": {
   "display_name": ".venv",
   "language": "python",
   "name": "python3"
  },
  "language_info": {
   "codemirror_mode": {
    "name": "ipython",
    "version": 3
   },
   "file_extension": ".py",
   "mimetype": "text/x-python",
   "name": "python",
   "nbconvert_exporter": "python",
   "pygments_lexer": "ipython3",
   "version": "3.13.0"
  }
 },
 "nbformat": 4,
 "nbformat_minor": 5
}
