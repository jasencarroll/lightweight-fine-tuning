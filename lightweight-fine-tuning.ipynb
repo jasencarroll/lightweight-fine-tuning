{
 "cells": [
  {
   "cell_type": "markdown",
   "id": "cfe43184-f3de-49aa-b4ff-2f94fd5afc11",
   "metadata": {},
   "source": [
    "# Lightweight Fine Tuning\n",
    "\n",
    "This project will load a pre-trained model and evaluate it's performance, perform parameter-efficient fine-tuning using the pre-trained model, and perform inference using the fine-tuned model, finally comparing its performance to the original model. \n",
    "\n",
    "- **PEFT Technique**:\n",
    "    - Parameter Efficient Fine Tuning Methods\n",
    "    - This project will use LoRA: [Low-Rank Adaptation of Large Language Models](https://arxiv.org/abs/2106.09685)\n",
    "- **Model**:\n",
    "    - GPT-2: [OpenAI's open source Generative Pre-trained Transformer](https://huggingface.co/openai-community/gpt2)\n",
    "- **Evaluation Approach**:\n",
    "    - The `evaluate` method with a Hugging Face `Trainer` will be used.\n",
    "    - The key requirement for the evlauation is that \n",
    "- **Dataset**:\n",
    "    - [Wikitext2](https://huggingface.co/datasets/mindchain/wikitext2): The WikiText language modeling dataset is a collection of over 100 million tokens extracted from the set of verified Good and Featured articles on Wikipedia. The dataset is available under the Creative Commons Attribution-ShareAlike License.\n",
    "\n",
    "## Training with PEFT"
   ]
  },
  {
   "cell_type": "markdown",
   "id": "cf986e41-df0b-4cdf-8122-898eefa663bc",
   "metadata": {},
   "source": [
    "### Importing the modules"
   ]
  },
  {
   "cell_type": "code",
   "execution_count": 1,
   "id": "59965b3e-dcee-46ab-bd0e-7c555990b455",
   "metadata": {},
   "outputs": [],
   "source": [
    "from transformers import AutoTokenizer, AutoModelForCausalLM, Trainer, TrainingArguments, DataCollatorForLanguageModeling\n",
    "from peft import get_peft_model, LoraConfig, TaskType, AutoPeftModelForCausalLM\n",
    "from datasets import load_dataset"
   ]
  },
  {
   "cell_type": "markdown",
   "id": "fe7b58b0-1674-4b06-a930-c539374e8564",
   "metadata": {},
   "source": [
    "### Setup the Model and Tokenizer"
   ]
  },
  {
   "cell_type": "code",
   "execution_count": 2,
   "id": "0013111b-9f9e-49f5-90f8-4763376eab64",
   "metadata": {},
   "outputs": [],
   "source": [
    "tokenizer = AutoTokenizer.from_pretrained(\"gpt2\")\n",
    "tokenizer.pad_token = tokenizer.eos_token\n",
    "model = AutoModelForCausalLM.from_pretrained(\"gpt2\")"
   ]
  },
  {
   "cell_type": "markdown",
   "id": "a4d45ad0-2530-4524-b125-ddc57ab0441e",
   "metadata": {},
   "source": [
    "### Creating a PEFT Config"
   ]
  },
  {
   "cell_type": "code",
   "execution_count": 3,
   "id": "c2192d6c-5ed5-457c-84c1-4e9079361b0b",
   "metadata": {},
   "outputs": [
    {
     "name": "stdout",
     "output_type": "stream",
     "text": [
      "trainable params: 1,179,648 || all params: 125,619,456 || trainable%: 0.9391\n"
     ]
    }
   ],
   "source": [
    "peft_config = LoraConfig(\n",
    "    task_type=TaskType.CAUSAL_LM,  # Causal language modeling for GPT-2\n",
    "    r=8,                           # Rank of update matrices\n",
    "    lora_alpha=32,                 # Alpha parameter for LoRA scaling\n",
    "    lora_dropout=0.1,              # Dropout probability for LoRA layers\n",
    "    # Target the attention and MLP layers in GPT-2\n",
    "    target_modules=[\"c_attn\", \"c_proj\", \"c_fc\"],\n",
    "    bias=\"none\",\n",
    "    fan_in_fan_out=True,\n",
    "    inference_mode=False,\n",
    ")\n",
    "lora_model = get_peft_model(model, peft_config)\n",
    "# Check trainable parameters\n",
    "lora_model.print_trainable_parameters()"
   ]
  },
  {
   "cell_type": "markdown",
   "id": "5f6c8c27",
   "metadata": {},
   "source": [
    "### Training with a PEFT Model"
   ]
  },
  {
   "cell_type": "code",
   "execution_count": 18,
   "id": "1b114377",
   "metadata": {},
   "outputs": [
    {
     "data": {
      "text/html": [
       "\n",
       "    <div>\n",
       "      \n",
       "      <progress value='750' max='750' style='width:300px; height:20px; vertical-align: middle;'></progress>\n",
       "      [750/750 07:23, Epoch 3/3]\n",
       "    </div>\n",
       "    <table border=\"1\" class=\"dataframe\">\n",
       "  <thead>\n",
       " <tr style=\"text-align: left;\">\n",
       "      <th>Step</th>\n",
       "      <th>Training Loss</th>\n",
       "      <th>Validation Loss</th>\n",
       "    </tr>\n",
       "  </thead>\n",
       "  <tbody>\n",
       "    <tr>\n",
       "      <td>100</td>\n",
       "      <td>0.000000</td>\n",
       "      <td>nan</td>\n",
       "    </tr>\n",
       "    <tr>\n",
       "      <td>200</td>\n",
       "      <td>0.000000</td>\n",
       "      <td>nan</td>\n",
       "    </tr>\n",
       "    <tr>\n",
       "      <td>300</td>\n",
       "      <td>0.000000</td>\n",
       "      <td>nan</td>\n",
       "    </tr>\n",
       "    <tr>\n",
       "      <td>400</td>\n",
       "      <td>0.000000</td>\n",
       "      <td>nan</td>\n",
       "    </tr>\n",
       "    <tr>\n",
       "      <td>500</td>\n",
       "      <td>0.000000</td>\n",
       "      <td>nan</td>\n",
       "    </tr>\n",
       "    <tr>\n",
       "      <td>600</td>\n",
       "      <td>0.000000</td>\n",
       "      <td>nan</td>\n",
       "    </tr>\n",
       "    <tr>\n",
       "      <td>700</td>\n",
       "      <td>0.000000</td>\n",
       "      <td>nan</td>\n",
       "    </tr>\n",
       "  </tbody>\n",
       "</table><p>"
      ],
      "text/plain": [
       "<IPython.core.display.HTML object>"
      ]
     },
     "metadata": {},
     "output_type": "display_data"
    }
   ],
   "source": [
    "# Define training arguments\n",
    "training_args = TrainingArguments(\n",
    "    output_dir=\"peft_model_output\",\n",
    "    num_train_epochs=3,\n",
    "    per_device_train_batch_size=2,\n",
    "    gradient_accumulation_steps=2,  # Accumulate gradients to simulate larger batch\n",
    "    warmup_steps=50,\n",
    "    learning_rate=2e-5,\n",
    "    logging_steps=10,\n",
    "    eval_strategy=\"steps\",\n",
    "    eval_steps=100,\n",
    "    save_strategy=\"steps\",\n",
    "    save_steps=200,\n",
    "    load_best_model_at_end=True,\n",
    ")\n",
    "\n",
    "# Load the dataset and split into train and validation sets\n",
    "subset_size = 1000\n",
    "dataset = load_dataset(\n",
    "    \"wikitext\", \n",
    "    \"wikitext-2-raw-v1\",\n",
    "    split={\n",
    "        'train': f'train[:{subset_size}]',\n",
    "        'validation': f'validation[:{subset_size//10}]'  # Smaller validation set\n",
    "    }\n",
    ")\n",
    "\n",
    "# Tokenize the dataset\n",
    "def tokenize_function(examples):\n",
    "    return tokenizer(examples[\"text\"], padding=\"max_length\", truncation=True, max_length=512)\n",
    "\n",
    "tokenized_dataset = dataset.map(tokenize_function, batched=True, batch_size=32, desc=\"Tokenizing\")\n",
    "\n",
    "# Add sequence lengths for efficient batching\n",
    "tokenized_dataset = tokenized_dataset.map(\n",
    "    lambda x: {\"length\": len(x[\"input_ids\"])},\n",
    "    desc=\"Adding sequence lengths\"\n",
    ")\n",
    "\n",
    "\n",
    "# Define data collator to handle padding and labels\n",
    "data_collator = DataCollatorForLanguageModeling(\n",
    "    tokenizer=tokenizer, mlm=False,\n",
    ")\n",
    "\n",
    "# Initialize trainer\n",
    "trainer = Trainer(\n",
    "    model=lora_model,\n",
    "    args=training_args,\n",
    "    train_dataset=tokenized_dataset[\"train\"],\n",
    "    eval_dataset=tokenized_dataset[\"validation\"],\n",
    "    data_collator=data_collator,\n",
    ")\n",
    "\n",
    "# Start training\n",
    "trainer.train()\n",
    "\n",
    "# Save the final model\n",
    "lora_model.save_pretrained(\"gpt2-lora\")"
   ]
  },
  {
   "cell_type": "code",
   "execution_count": null,
   "id": "2f18b217",
   "metadata": {},
   "outputs": [],
   "source": []
  }
 ],
 "metadata": {
  "kernelspec": {
   "display_name": ".venv",
   "language": "python",
   "name": "python3"
  },
  "language_info": {
   "codemirror_mode": {
    "name": "ipython",
    "version": 3
   },
   "file_extension": ".py",
   "mimetype": "text/x-python",
   "name": "python",
   "nbconvert_exporter": "python",
   "pygments_lexer": "ipython3",
   "version": "3.13.0"
  }
 },
 "nbformat": 4,
 "nbformat_minor": 5
}
