{
 "cells": [
  {
   "cell_type": "markdown",
   "id": "7d2f5ad4",
   "metadata": {},
   "source": [
    "## Inference with PEFT\n",
    "\n",
    "### Loading a Saved PEFT Model"
   ]
  },
  {
   "cell_type": "code",
   "execution_count": 4,
   "id": "b91565af",
   "metadata": {},
   "outputs": [],
   "source": [
    "from transformers import AutoTokenizer, AutoModelForCausalLM, AutoConfig\n",
    "from peft import AutoPeftModelForCausalLM\n",
    "\n",
    "tokenizer = AutoTokenizer.from_pretrained(\"gpt2\")\n",
    "tokenizer.pad_token = tokenizer.eos_token\n",
    "model = AutoModelForCausalLM.from_pretrained(\"openai-community/gpt2\")\n",
    "lora_model = AutoPeftModelForCausalLM.from_pretrained(\"gpt2-lora\")"
   ]
  },
  {
   "cell_type": "markdown",
   "id": "d7f5b0ec",
   "metadata": {},
   "source": [
    "### Generating Text from a PEFT Model"
   ]
  },
  {
   "cell_type": "code",
   "execution_count": 11,
   "id": "4fda57bd",
   "metadata": {},
   "outputs": [
    {
     "name": "stderr",
     "output_type": "stream",
     "text": [
      "The attention mask and the pad token id were not set. As a consequence, you may observe unexpected behavior. Please pass your input's `attention_mask` to obtain reliable results.\n",
      "Setting `pad_token_id` to `eos_token_id`:50256 for open-end generation.\n",
      "The attention mask and the pad token id were not set. As a consequence, you may observe unexpected behavior. Please pass your input's `attention_mask` to obtain reliable results.\n",
      "Setting `pad_token_id` to `eos_token_id`:50256 for open-end generation.\n"
     ]
    },
    {
     "name": "stdout",
     "output_type": "stream",
     "text": [
      "['Hello, my name is _____. I am a student at the University of California, Berkeley. I am a member of the']\n",
      "['Hello, my name is !!!!!!!!!!!!!!!!!!!!']\n"
     ]
    }
   ],
   "source": [
    "inputs = tokenizer(\"Hello, my name is \", return_tensors=\"pt\")\n",
    "outputs = model.generate(input_ids=inputs[\"input_ids\"], max_new_tokens=20)\n",
    "print(tokenizer.batch_decode(outputs))\n",
    "\n",
    "lora_outputs = lora_model.generate(input_ids=inputs[\"input_ids\"], max_new_tokens=20)\n",
    "print(tokenizer.batch_decode(lora_outputs))"
   ]
  },
  {
   "cell_type": "markdown",
   "id": "568d85bc",
   "metadata": {},
   "source": []
  }
 ],
 "metadata": {
  "kernelspec": {
   "display_name": ".venv",
   "language": "python",
   "name": "python3"
  },
  "language_info": {
   "codemirror_mode": {
    "name": "ipython",
    "version": 3
   },
   "file_extension": ".py",
   "mimetype": "text/x-python",
   "name": "python",
   "nbconvert_exporter": "python",
   "pygments_lexer": "ipython3",
   "version": "3.13.0"
  }
 },
 "nbformat": 4,
 "nbformat_minor": 5
}
