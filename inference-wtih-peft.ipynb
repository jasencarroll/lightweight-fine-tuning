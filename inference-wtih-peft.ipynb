{
 "cells": [
  {
   "cell_type": "markdown",
   "id": "7d2f5ad4",
   "metadata": {},
   "source": [
    "## Inference with PEFT\n",
    "\n",
    "### Loading a Saved PEFT Model"
   ]
  },
  {
   "cell_type": "code",
   "execution_count": 24,
   "id": "b91565af",
   "metadata": {},
   "outputs": [],
   "source": [
    "from transformers import AutoTokenizer, AutoModelForCausalLM, AutoConfig\n",
    "from peft import AutoPeftModelForCausalLM\n",
    "\n",
    "tokenizer = AutoTokenizer.from_pretrained(\"gpt2\")\n",
    "tokenizer.pad_token = tokenizer.eos_token\n",
    "model = AutoModelForCausalLM.from_pretrained(\"gpt2\")\n",
    "lora_model = AutoPeftModelForCausalLM.from_pretrained(\"gpt2-lora\")"
   ]
  },
  {
   "cell_type": "markdown",
   "id": "d7f5b0ec",
   "metadata": {},
   "source": [
    "### Generating Text from a PEFT Model"
   ]
  },
  {
   "cell_type": "code",
   "execution_count": 25,
   "id": "4fda57bd",
   "metadata": {},
   "outputs": [
    {
     "name": "stderr",
     "output_type": "stream",
     "text": [
      "Setting `pad_token_id` to `eos_token_id`:50256 for open-end generation.\n",
      "Setting `pad_token_id` to `eos_token_id`:50256 for open-end generation.\n"
     ]
    },
    {
     "name": "stdout",
     "output_type": "stream",
     "text": [
      "[\"Hello, my name is _____. I am a student at the University of California, Berkeley.\\n\\nI am an English teacher. My name was ____. And I'm a professor at a university in the United States. So I have a lot of experience in teaching\"]\n",
      "['Hello, my name is !!\"!#!$!%!&!\\'!(!)!*!+!,!-!.!/!0!1!2!3!4!5!6!7!8!9!']\n"
     ]
    }
   ],
   "source": [
    "inputs = tokenizer(\"Hello, my name is \", return_tensors=\"pt\", padding=True)\n",
    "outputs = model.generate(\n",
    "    input_ids=inputs[\"input_ids\"],\n",
    "    attention_mask=inputs[\"attention_mask\"],\n",
    "    max_new_tokens=50,\n",
    "    num_return_sequences=1,\n",
    "    no_repeat_ngram_size=2,\n",
    "    top_k=50\n",
    ")\n",
    "print(tokenizer.batch_decode(outputs))\n",
    "\n",
    "lora_outputs = lora_model.generate(\n",
    "    input_ids=inputs[\"input_ids\"],\n",
    "    attention_mask=inputs[\"attention_mask\"],\n",
    "    max_new_tokens=50,\n",
    "    num_return_sequences=1,\n",
    "    no_repeat_ngram_size=2,\n",
    "    top_k=50\n",
    ")\n",
    "print(tokenizer.batch_decode(lora_outputs))"
   ]
  },
  {
   "cell_type": "markdown",
   "id": "568d85bc",
   "metadata": {},
   "source": []
  }
 ],
 "metadata": {
  "kernelspec": {
   "display_name": ".venv",
   "language": "python",
   "name": "python3"
  },
  "language_info": {
   "codemirror_mode": {
    "name": "ipython",
    "version": 3
   },
   "file_extension": ".py",
   "mimetype": "text/x-python",
   "name": "python",
   "nbconvert_exporter": "python",
   "pygments_lexer": "ipython3",
   "version": "3.13.0"
  }
 },
 "nbformat": 4,
 "nbformat_minor": 5
}
