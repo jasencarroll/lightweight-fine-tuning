{
 "cells": [
  {
   "cell_type": "markdown",
   "id": "cfe43184-f3de-49aa-b4ff-2f94fd5afc11",
   "metadata": {},
   "source": [
    "# Lightweight Fine Tuning\n",
    "\n",
    "This project will load a pre-trained model and evaluate it's performance, perform parameter-efficient fine-tuning using the pre-trained model, and perform inference using the fine-tuned model, finally comparing its performance to the original model. \n",
    "\n",
    "- **PEFT Technique**:\n",
    "    - Parameter Efficient Fine Tuning Methods\n",
    "    - This project will use LoRA: [Low-Rank Adaptation of Large Language Models](https://arxiv.org/abs/2106.09685)\n",
    "- **Model**:\n",
    "    - GPT-2: [OpenAI's open source Generative Pre-trained Transformer](https://huggingface.co/openai-community/gpt2)\n",
    "- **Evaluation Approach**:\n",
    "    - The `evaluate` method with a Hugging Face `Trainer` will be used.\n",
    "    - The key requirement for the evlauation is that \n",
    "- **Dataset**:\n",
    "    - [Wikitext2](https://huggingface.co/datasets/mindchain/wikitext2): The WikiText language modeling dataset is a collection of over 100 million tokens extracted from the set of verified Good and Featured articles on Wikipedia. The dataset is available under the Creative Commons Attribution-ShareAlike License.\n"
   ]
  },
  {
   "cell_type": "markdown",
   "id": "cf986e41-df0b-4cdf-8122-898eefa663bc",
   "metadata": {},
   "source": [
    "## Importing the modules"
   ]
  },
  {
   "cell_type": "code",
   "execution_count": 1,
   "id": "59965b3e-dcee-46ab-bd0e-7c555990b455",
   "metadata": {},
   "outputs": [],
   "source": [
    "from transformers import AutoTokenizer, AutoModelForCausalLM\n",
    "from peft import get_peft_model, LoraConfig, TaskType\n",
    "from datasets import load_dataset\n",
    "from transformers import Trainer, TrainingArguments\n",
    "from torch.utils.data import DataLoader\n",
    "from transformers import default_data_collator, Trainer"
   ]
  },
  {
   "cell_type": "markdown",
   "id": "fe7b58b0-1674-4b06-a930-c539374e8564",
   "metadata": {},
   "source": [
    "## Setup the Model and Tokenizer"
   ]
  },
  {
   "cell_type": "code",
   "execution_count": 2,
   "id": "0013111b-9f9e-49f5-90f8-4763376eab64",
   "metadata": {},
   "outputs": [],
   "source": [
    "tokenizer = AutoTokenizer.from_pretrained(\"openai-community/gpt2\")\n",
    "model = AutoModelForCausalLM.from_pretrained(\"openai-community/gpt2\")"
   ]
  },
  {
   "cell_type": "markdown",
   "id": "a4d45ad0-2530-4524-b125-ddc57ab0441e",
   "metadata": {},
   "source": [
    "## Creating a PEFT Config"
   ]
  },
  {
   "cell_type": "code",
   "execution_count": 5,
   "id": "c2192d6c-5ed5-457c-84c1-4e9079361b0b",
   "metadata": {},
   "outputs": [],
   "source": [
    "peft_config = LoraConfig(\n",
    "    task_type=TaskType.CAUSAL_LM,  # Causal language modeling for GPT-2\n",
    "    r=8,                           # Rank of update matrices\n",
    "    lora_alpha=32,                 # Alpha parameter for LoRA scaling\n",
    "    lora_dropout=0.1,              # Dropout probability for LoRA layers\n",
    "    # Target the attention and MLP layers in GPT-2\n",
    "    target_modules=[\"c_attn\", \"c_proj\", \"c_fc\"],\n",
    "    bias=\"none\",\n",
    "    fan_in_fan_out=True,\n",
    "    inference_mode=False,\n",
    ")\n",
    "lora_model = get_peft_model(model, peft_config)\n",
    "lora_model.print_trainable_parameters()"
   ]
  },
  {
   "cell_type": "code",
   "execution_count": 6,
   "id": "45ebb7a5",
   "metadata": {},
   "outputs": [],
   "source": []
  },
  {
   "cell_type": "code",
   "execution_count": 7,
   "id": "6d1ff147-878f-434c-beae-0814d4591eb1",
   "metadata": {},
   "outputs": [
    {
     "name": "stdout",
     "output_type": "stream",
     "text": [
      "trainable params: 1,179,648 || all params: 125,619,456 || trainable%: 0.9391\n"
     ]
    }
   ],
   "source": []
  },
  {
   "cell_type": "code",
   "execution_count": null,
   "id": "76675a61-c4d5-425c-b545-799d696c553e",
   "metadata": {},
   "outputs": [],
   "source": []
  }
 ],
 "metadata": {
  "kernelspec": {
   "display_name": "Python 3 (ipykernel)",
   "language": "python",
   "name": "python3"
  },
  "language_info": {
   "codemirror_mode": {
    "name": "ipython",
    "version": 3
   },
   "file_extension": ".py",
   "mimetype": "text/x-python",
   "name": "python",
   "nbconvert_exporter": "python",
   "pygments_lexer": "ipython3",
   "version": "3.13.0"
  }
 },
 "nbformat": 4,
 "nbformat_minor": 5
}
